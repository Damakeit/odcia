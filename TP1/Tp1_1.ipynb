{
 "cells": [
  {
   "cell_type": "code",
   "execution_count": 21,
   "id": "0345e442",
   "metadata": {},
   "outputs": [],
   "source": [
    "from ast import FunctionDef\n",
    "import math\n",
    "import random\n",
    "import statistics"
   ]
  },
  {
   "cell_type": "code",
   "execution_count": 28,
   "id": "844fdeca",
   "metadata": {},
   "outputs": [
    {
     "name": "stdout",
     "output_type": "stream",
     "text": [
      "entrer un entier : 2\n",
      "[-2, -1, 0, 1, 2]\n",
      "la somme est :  1.1630228414969253\n"
     ]
    }
   ],
   "source": [
    "import math\n",
    "n = int(input(\"entrer un entier : \"))\n",
    "\n",
    "l=[]\n",
    "def f(x):\n",
    "    i = x/(x**2 + 1)\n",
    "    return i\n",
    "\n",
    "def g(x):\n",
    "    j = math.atan(x)\n",
    "    return j\n",
    "l = list(range(-n,n+1))\n",
    "l.sort()\n",
    "print(l)\n",
    "    \n",
    "print(\"la somme est : \", sum([(f(a)-g(a))**2 for a in l]))"
   ]
  },
  {
   "cell_type": "code",
   "execution_count": 23,
   "id": "ed452a97",
   "metadata": {},
   "outputs": [],
   "source": [
    "class Resolution:\n",
    "    def __init__(self, N):\n",
    "        self.N=N\n",
    "        self.L=list(range(-self.N, self.N+1))\n",
    "        \n",
    "    def f(self, x):\n",
    "        return x/(x**2 + 1)\n",
    "    \n",
    "    def g(self, x):\n",
    "        return math.atan(x)\n",
    "    \n",
    "    def liste(N):\n",
    "        L=list(range(-N,N+1))\n",
    "        return L\n",
    "    \n",
    "    def calcul(self):\n",
    "        print(self.L)\n",
    "        return sum([pow(( (x/(x**2 + 1)) - (math.atan(x)) ), 2) for x in self.L])\n",
    "\n",
    "              \n"
   ]
  },
  {
   "cell_type": "code",
   "execution_count": 24,
   "id": "44681819",
   "metadata": {},
   "outputs": [],
   "source": [
    "\n",
    "class DataTrans:\n",
    "    def __init__(self, n, s):\n",
    "        self.n = n\n",
    "        self.s = s\n",
    "        \n",
    "    \n",
    "    def liste(self):\n",
    "        D=[]\n",
    "        for x in range(self.n):\n",
    "            l=[random.randint(0,100) for x in range(self.s)]\n",
    "            D.append(l)\n",
    "        return D\n",
    "\n",
    "    def listMin(self, d):\n",
    "        minList = []\n",
    "        for l in d:\n",
    "            minValue = l[0]\n",
    "            for x in l[1:]:\n",
    "                if x < minValue:\n",
    "                    minValue = x\n",
    "            minList.append(minValue)\n",
    "        return minList\n",
    "\n",
    "    def listMax(self, g):\n",
    "        maxList = []\n",
    "        for k in g:\n",
    "            maxValue = k[0]\n",
    "            for x in k[1:]:\n",
    "                if x > maxValue:\n",
    "                    maxValue = x\n",
    "            maxList.append(maxValue)\n",
    "        return maxList\n",
    "\n",
    "    def minGlobal(self, v):\n",
    "        for i in v:\n",
    "            miValue = v[0]\n",
    "            for x in v[1:]:\n",
    "                if x < miValue:\n",
    "                    miValue = x\n",
    "            return miValue\n",
    "    \n",
    "    def maxGlobal(self, p):\n",
    "        for i in p:\n",
    "            maValue = p[0]\n",
    "            for x in p[1:]:\n",
    "                if x > maValue:\n",
    "                    maValue = x\n",
    "            return maValue\n",
    "\n",
    "    def fonction(x):\n",
    "        return (x**3 + 3*(x**2) - 5)\n",
    "\n",
    "    def calcul_D(self,h):\n",
    "        for i in range(len(h)):\n",
    "            for j in range(len(h[i])):\n",
    "                t = h[i][j]\n",
    "                print(\"Pour x = \",t, \"on a : \", self.fonction(t))\n",
    "    "
   ]
  },
  {
   "cell_type": "code",
   "execution_count": 25,
   "id": "5895cab9",
   "metadata": {},
   "outputs": [
    {
     "data": {
      "text/plain": [
       "[[93, 71, 57], [8, 11, 60]]"
      ]
     },
     "execution_count": 25,
     "metadata": {},
     "output_type": "execute_result"
    }
   ],
   "source": [
    "s = DataTrans(2,3)\n",
    "s.liste()"
   ]
  },
  {
   "cell_type": "code",
   "execution_count": 26,
   "id": "b95430b2",
   "metadata": {},
   "outputs": [],
   "source": [
    "\n",
    "class statist():\n",
    "    \n",
    "    def __init__(self):\n",
    "        self.n = [random.randint(0,100) for i in range(100)]\n",
    "        print(n)\n",
    "\n",
    "    def moyenne(self):\n",
    "        moy = statistics.mean(self.n)\n",
    "        print(\"moyenne : \",moy)\n",
    "    \n",
    "    def ecartyp(self):\n",
    "        e = statistics.pstdev(self.n)\n",
    "        print(\"ecart type : \",e)\n",
    "\n",
    "    def varian(self):\n",
    "        v = statistics.pvariance(n)\n",
    "        print(\"variance : \",v)\n",
    "\n",
    "    def median(self):\n",
    "        m = statistics.median(self.n)\n",
    "        print(\"median : \",m)"
   ]
  },
  {
   "cell_type": "code",
   "execution_count": 27,
   "id": "c59a5e99",
   "metadata": {},
   "outputs": [
    {
     "name": "stdout",
     "output_type": "stream",
     "text": [
      "2\n",
      "moyenne :  49.23\n"
     ]
    }
   ],
   "source": [
    "d = statist()\n",
    "d.moyenne()"
   ]
  },
  {
   "cell_type": "code",
   "execution_count": null,
   "id": "2d898c3c",
   "metadata": {},
   "outputs": [],
   "source": []
  }
 ],
 "metadata": {
  "kernelspec": {
   "display_name": "Python 3 (ipykernel)",
   "language": "python",
   "name": "python3"
  },
  "language_info": {
   "codemirror_mode": {
    "name": "ipython",
    "version": 3
   },
   "file_extension": ".py",
   "mimetype": "text/x-python",
   "name": "python",
   "nbconvert_exporter": "python",
   "pygments_lexer": "ipython3",
   "version": "3.9.13"
  }
 },
 "nbformat": 4,
 "nbformat_minor": 5
}
